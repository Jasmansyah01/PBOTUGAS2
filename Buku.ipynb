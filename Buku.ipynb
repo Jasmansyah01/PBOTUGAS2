{
  "nbformat": 4,
  "nbformat_minor": 0,
  "metadata": {
    "colab": {
      "provenance": [],
      "authorship_tag": "ABX9TyNm/fqQQEypGmocf/x5yN6R",
      "include_colab_link": true
    },
    "kernelspec": {
      "name": "python3",
      "display_name": "Python 3"
    },
    "language_info": {
      "name": "python"
    }
  },
  "cells": [
    {
      "cell_type": "markdown",
      "metadata": {
        "id": "view-in-github",
        "colab_type": "text"
      },
      "source": [
        "<a href=\"https://colab.research.google.com/github/Jasmansyah01/PBOTUGAS2/blob/main/Buku.ipynb\" target=\"_parent\"><img src=\"https://colab.research.google.com/assets/colab-badge.svg\" alt=\"Open In Colab\"/></a>"
      ]
    },
    {
      "cell_type": "code",
      "source": [
        "class Buku:\n",
        "    def __init__(self, judul, pengarang):\n",
        "        self.judul = judul\n",
        "        self.pengarang = pengarang\n",
        "\n",
        "    def info_buku(self):\n",
        "        print(f\"Buku berjudul '{self.judul}' ditulis oleh {self.pengarang}.\")\n",
        "\n",
        "# Membuat objek\n",
        "buku1 = Buku(\"Pemrograman Python\", \"Guido van Rossum\")\n",
        "buku1.info_buku()\n"
      ],
      "metadata": {
        "colab": {
          "base_uri": "https://localhost:8080/"
        },
        "id": "FTa-VOOpmFji",
        "outputId": "4ffa88d0-22af-4bf8-bb55-2618b783b47e"
      },
      "execution_count": 12,
      "outputs": [
        {
          "output_type": "stream",
          "name": "stdout",
          "text": [
            "Buku berjudul 'Pemrograman Python' ditulis oleh Guido van Rossum.\n"
          ]
        }
      ]
    }
  ]
}