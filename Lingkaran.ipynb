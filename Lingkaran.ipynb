{
  "nbformat": 4,
  "nbformat_minor": 0,
  "metadata": {
    "colab": {
      "provenance": [],
      "authorship_tag": "ABX9TyNBVVTrlcl5Mlv/G9yYRsb+",
      "include_colab_link": true
    },
    "kernelspec": {
      "name": "python3",
      "display_name": "Python 3"
    },
    "language_info": {
      "name": "python"
    }
  },
  "cells": [
    {
      "cell_type": "markdown",
      "metadata": {
        "id": "view-in-github",
        "colab_type": "text"
      },
      "source": [
        "<a href=\"https://colab.research.google.com/github/Jasmansyah01/PBOTUGAS2/blob/main/Lingkaran.ipynb\" target=\"_parent\"><img src=\"https://colab.research.google.com/assets/colab-badge.svg\" alt=\"Open In Colab\"/></a>"
      ]
    },
    {
      "cell_type": "code",
      "source": [
        "import math\n",
        "\n",
        "class Lingkaran:\n",
        "    def __init__(self, jari_jari):\n",
        "        self.jari_jari = jari_jari\n",
        "\n",
        "    def hitung_luas(self):\n",
        "        return math.pi * self.jari_jari ** 2\n",
        "\n",
        "# Membuat objek\n",
        "blt = Lingkaran(11)\n",
        "print(f\"Luas lingkaran: {blt.hitung_luas():.2f}\")\n"
      ],
      "metadata": {
        "colab": {
          "base_uri": "https://localhost:8080/"
        },
        "id": "PlGo0CGYlV-Z",
        "outputId": "e5594222-f164-4403-fa66-3c6ae331ed07"
      },
      "execution_count": 7,
      "outputs": [
        {
          "output_type": "stream",
          "name": "stdout",
          "text": [
            "Luas lingkaran: 380.13\n"
          ]
        }
      ]
    }
  ]
}