{
  "nbformat": 4,
  "nbformat_minor": 0,
  "metadata": {
    "colab": {
      "provenance": [],
      "authorship_tag": "ABX9TyP6VSfI3FlXYFWyTggaBTHi",
      "include_colab_link": true
    },
    "kernelspec": {
      "name": "python3",
      "display_name": "Python 3"
    },
    "language_info": {
      "name": "python"
    }
  },
  "cells": [
    {
      "cell_type": "markdown",
      "metadata": {
        "id": "view-in-github",
        "colab_type": "text"
      },
      "source": [
        "<a href=\"https://colab.research.google.com/github/Jasmansyah01/PBOTUGAS2/blob/main/Karyawan.ipynb\" target=\"_parent\"><img src=\"https://colab.research.google.com/assets/colab-badge.svg\" alt=\"Open In Colab\"/></a>"
      ]
    },
    {
      "cell_type": "code",
      "source": [
        "class Karyawan:\n",
        "    def __init__(self, nama, gaji):\n",
        "        self.nama = nama\n",
        "        self.gaji = gaji\n",
        "\n",
        "    def info_karyawan(self):\n",
        "        print(f\"Karyawan {self.nama} memiliki gaji sebesar Rp{self.gaji}.\")\n",
        "\n",
        "# Membuat objek\n",
        "kry = Karyawan(\"JASMAN\", 5000000)\n",
        "kry.info_karyawan()\n"
      ],
      "metadata": {
        "colab": {
          "base_uri": "https://localhost:8080/"
        },
        "id": "FTa-VOOpmFji",
        "outputId": "d13dbd6c-b52a-4f2f-f99f-48ef54004230"
      },
      "execution_count": 21,
      "outputs": [
        {
          "output_type": "stream",
          "name": "stdout",
          "text": [
            "Karyawan JASMAN memiliki gaji sebesar Rp5000000.\n"
          ]
        }
      ]
    }
  ]
}