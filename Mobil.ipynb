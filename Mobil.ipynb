{
  "nbformat": 4,
  "nbformat_minor": 0,
  "metadata": {
    "colab": {
      "provenance": [],
      "authorship_tag": "ABX9TyNJxuUxQRqKbVYSn/+JOls7",
      "include_colab_link": true
    },
    "kernelspec": {
      "name": "python3",
      "display_name": "Python 3"
    },
    "language_info": {
      "name": "python"
    }
  },
  "cells": [
    {
      "cell_type": "markdown",
      "metadata": {
        "id": "view-in-github",
        "colab_type": "text"
      },
      "source": [
        "<a href=\"https://colab.research.google.com/github/Jasmansyah01/PBOTUGAS2/blob/main/Mobil.ipynb\" target=\"_parent\"><img src=\"https://colab.research.google.com/assets/colab-badge.svg\" alt=\"Open In Colab\"/></a>"
      ]
    },
    {
      "cell_type": "code",
      "source": [
        "class Mobil:\n",
        "    def __init__(self, merk, warna):\n",
        "        self.merk = merk\n",
        "        self.warna = warna\n",
        "\n",
        "    def nyalakan_mesin(self):\n",
        "        print(f\"Mobil {self.merk} berwarna {self.warna} siap digunakan.\")\n",
        "\n",
        "# Membuat objek\n",
        "mbl = Mobil(\"INNOVA\", \"Merah\")\n",
        "mbl.nyalakan_mesin()\n"
      ],
      "metadata": {
        "colab": {
          "base_uri": "https://localhost:8080/"
        },
        "id": "FTa-VOOpmFji",
        "outputId": "77c45772-d1ab-47d9-d525-f041e940ff6e"
      },
      "execution_count": 10,
      "outputs": [
        {
          "output_type": "stream",
          "name": "stdout",
          "text": [
            "Mobil INNOVA berwarna Merah siap digunakan.\n"
          ]
        }
      ]
    }
  ]
}